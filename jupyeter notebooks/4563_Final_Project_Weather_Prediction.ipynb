{
  "cells": [
    {
      "cell_type": "markdown",
      "metadata": {
        "id": "ai5tkKdWie_O"
      },
      "source": [
        "\n",
        "# Weather Prediction With Machine Learning\n"
      ]
    },
    {
      "cell_type": "markdown",
      "metadata": {
        "id": "IIG9uz70ifBN"
      },
      "source": [
        "### Imports"
      ]
    },
    {
      "cell_type": "code",
      "execution_count": null,
      "metadata": {
        "id": "1cnCttLliYqt"
      },
      "outputs": [],
      "source": [
        "import numpy as np\n",
        "import pandas as pd\n",
        "import matplotlib.pyplot as plt\n",
        "\n",
        "from sklearn.model_selection import train_test_split\n",
        "from sklearn.preprocessing import StandardScaler, OneHotEncoder\n",
        "from sklearn.ensemble import RandomForestClassifier\n",
        "from sklearn.metrics import accuracy_score\n",
        "\n",
        "import torch\n",
        "import torch.nn as nn\n",
        "import torch.optim as optim\n",
        "from torch.utils.data import DataLoader, TensorDataset"
      ]
    },
    {
      "cell_type": "markdown",
      "metadata": {
        "id": "R4A_eHOCifDl"
      },
      "source": [
        "### Process Data"
      ]
    },
    {
      "cell_type": "code",
      "execution_count": null,
      "metadata": {
        "colab": {
          "base_uri": "https://localhost:8080/",
          "height": 206
        },
        "id": "qMJj8RpAjMkA",
        "outputId": "e0e9bfcb-517e-46a0-eb90-133322e42074"
      },
      "outputs": [
        {
          "data": {
            "application/vnd.google.colaboratory.intrinsic+json": {
              "summary": "{\n  \"name\": \"original\",\n  \"rows\": 1461,\n  \"fields\": [\n    {\n      \"column\": \"date\",\n      \"properties\": {\n        \"dtype\": \"object\",\n        \"num_unique_values\": 1461,\n        \"samples\": [\n          \"2014-06-11\",\n          \"2015-01-10\",\n          \"2013-02-17\"\n        ],\n        \"semantic_type\": \"\",\n        \"description\": \"\"\n      }\n    },\n    {\n      \"column\": \"precipitation\",\n      \"properties\": {\n        \"dtype\": \"number\",\n        \"std\": 6.680194322314731,\n        \"min\": 0.0,\n        \"max\": 55.9,\n        \"num_unique_values\": 111,\n        \"samples\": [\n          43.4,\n          8.1,\n          1.3\n        ],\n        \"semantic_type\": \"\",\n        \"description\": \"\"\n      }\n    },\n    {\n      \"column\": \"temp_max\",\n      \"properties\": {\n        \"dtype\": \"number\",\n        \"std\": 7.349758097360185,\n        \"min\": -1.6,\n        \"max\": 35.6,\n        \"num_unique_values\": 67,\n        \"samples\": [\n          25.6,\n          8.3,\n          8.9\n        ],\n        \"semantic_type\": \"\",\n        \"description\": \"\"\n      }\n    },\n    {\n      \"column\": \"temp_min\",\n      \"properties\": {\n        \"dtype\": \"number\",\n        \"std\": 5.023004179961267,\n        \"min\": -7.1,\n        \"max\": 18.3,\n        \"num_unique_values\": 55,\n        \"samples\": [\n          13.3,\n          0.6,\n          14.4\n        ],\n        \"semantic_type\": \"\",\n        \"description\": \"\"\n      }\n    },\n    {\n      \"column\": \"wind\",\n      \"properties\": {\n        \"dtype\": \"number\",\n        \"std\": 1.4378250588746244,\n        \"min\": 0.4,\n        \"max\": 9.5,\n        \"num_unique_values\": 79,\n        \"samples\": [\n          8.1,\n          4.7,\n          2.6\n        ],\n        \"semantic_type\": \"\",\n        \"description\": \"\"\n      }\n    },\n    {\n      \"column\": \"weather\",\n      \"properties\": {\n        \"dtype\": \"category\",\n        \"num_unique_values\": 5,\n        \"samples\": [\n          \"rain\",\n          \"fog\",\n          \"sun\"\n        ],\n        \"semantic_type\": \"\",\n        \"description\": \"\"\n      }\n    }\n  ]\n}",
              "type": "dataframe",
              "variable_name": "original"
            },
            "text/html": [
              "\n",
              "  <div id=\"df-c638fa53-8662-4ea9-940b-10e628efed29\" class=\"colab-df-container\">\n",
              "    <div>\n",
              "<style scoped>\n",
              "    .dataframe tbody tr th:only-of-type {\n",
              "        vertical-align: middle;\n",
              "    }\n",
              "\n",
              "    .dataframe tbody tr th {\n",
              "        vertical-align: top;\n",
              "    }\n",
              "\n",
              "    .dataframe thead th {\n",
              "        text-align: right;\n",
              "    }\n",
              "</style>\n",
              "<table border=\"1\" class=\"dataframe\">\n",
              "  <thead>\n",
              "    <tr style=\"text-align: right;\">\n",
              "      <th></th>\n",
              "      <th>date</th>\n",
              "      <th>precipitation</th>\n",
              "      <th>temp_max</th>\n",
              "      <th>temp_min</th>\n",
              "      <th>wind</th>\n",
              "      <th>weather</th>\n",
              "    </tr>\n",
              "  </thead>\n",
              "  <tbody>\n",
              "    <tr>\n",
              "      <th>0</th>\n",
              "      <td>2012-01-01</td>\n",
              "      <td>0.0</td>\n",
              "      <td>12.8</td>\n",
              "      <td>5.0</td>\n",
              "      <td>4.7</td>\n",
              "      <td>drizzle</td>\n",
              "    </tr>\n",
              "    <tr>\n",
              "      <th>1</th>\n",
              "      <td>2012-01-02</td>\n",
              "      <td>10.9</td>\n",
              "      <td>10.6</td>\n",
              "      <td>2.8</td>\n",
              "      <td>4.5</td>\n",
              "      <td>rain</td>\n",
              "    </tr>\n",
              "    <tr>\n",
              "      <th>2</th>\n",
              "      <td>2012-01-03</td>\n",
              "      <td>0.8</td>\n",
              "      <td>11.7</td>\n",
              "      <td>7.2</td>\n",
              "      <td>2.3</td>\n",
              "      <td>rain</td>\n",
              "    </tr>\n",
              "    <tr>\n",
              "      <th>3</th>\n",
              "      <td>2012-01-04</td>\n",
              "      <td>20.3</td>\n",
              "      <td>12.2</td>\n",
              "      <td>5.6</td>\n",
              "      <td>4.7</td>\n",
              "      <td>rain</td>\n",
              "    </tr>\n",
              "    <tr>\n",
              "      <th>4</th>\n",
              "      <td>2012-01-05</td>\n",
              "      <td>1.3</td>\n",
              "      <td>8.9</td>\n",
              "      <td>2.8</td>\n",
              "      <td>6.1</td>\n",
              "      <td>rain</td>\n",
              "    </tr>\n",
              "  </tbody>\n",
              "</table>\n",
              "</div>\n",
              "    <div class=\"colab-df-buttons\">\n",
              "\n",
              "  <div class=\"colab-df-container\">\n",
              "    <button class=\"colab-df-convert\" onclick=\"convertToInteractive('df-c638fa53-8662-4ea9-940b-10e628efed29')\"\n",
              "            title=\"Convert this dataframe to an interactive table.\"\n",
              "            style=\"display:none;\">\n",
              "\n",
              "  <svg xmlns=\"http://www.w3.org/2000/svg\" height=\"24px\" viewBox=\"0 -960 960 960\">\n",
              "    <path d=\"M120-120v-720h720v720H120Zm60-500h600v-160H180v160Zm220 220h160v-160H400v160Zm0 220h160v-160H400v160ZM180-400h160v-160H180v160Zm440 0h160v-160H620v160ZM180-180h160v-160H180v160Zm440 0h160v-160H620v160Z\"/>\n",
              "  </svg>\n",
              "    </button>\n",
              "\n",
              "  <style>\n",
              "    .colab-df-container {\n",
              "      display:flex;\n",
              "      gap: 12px;\n",
              "    }\n",
              "\n",
              "    .colab-df-convert {\n",
              "      background-color: #E8F0FE;\n",
              "      border: none;\n",
              "      border-radius: 50%;\n",
              "      cursor: pointer;\n",
              "      display: none;\n",
              "      fill: #1967D2;\n",
              "      height: 32px;\n",
              "      padding: 0 0 0 0;\n",
              "      width: 32px;\n",
              "    }\n",
              "\n",
              "    .colab-df-convert:hover {\n",
              "      background-color: #E2EBFA;\n",
              "      box-shadow: 0px 1px 2px rgba(60, 64, 67, 0.3), 0px 1px 3px 1px rgba(60, 64, 67, 0.15);\n",
              "      fill: #174EA6;\n",
              "    }\n",
              "\n",
              "    .colab-df-buttons div {\n",
              "      margin-bottom: 4px;\n",
              "    }\n",
              "\n",
              "    [theme=dark] .colab-df-convert {\n",
              "      background-color: #3B4455;\n",
              "      fill: #D2E3FC;\n",
              "    }\n",
              "\n",
              "    [theme=dark] .colab-df-convert:hover {\n",
              "      background-color: #434B5C;\n",
              "      box-shadow: 0px 1px 3px 1px rgba(0, 0, 0, 0.15);\n",
              "      filter: drop-shadow(0px 1px 2px rgba(0, 0, 0, 0.3));\n",
              "      fill: #FFFFFF;\n",
              "    }\n",
              "  </style>\n",
              "\n",
              "    <script>\n",
              "      const buttonEl =\n",
              "        document.querySelector('#df-c638fa53-8662-4ea9-940b-10e628efed29 button.colab-df-convert');\n",
              "      buttonEl.style.display =\n",
              "        google.colab.kernel.accessAllowed ? 'block' : 'none';\n",
              "\n",
              "      async function convertToInteractive(key) {\n",
              "        const element = document.querySelector('#df-c638fa53-8662-4ea9-940b-10e628efed29');\n",
              "        const dataTable =\n",
              "          await google.colab.kernel.invokeFunction('convertToInteractive',\n",
              "                                                    [key], {});\n",
              "        if (!dataTable) return;\n",
              "\n",
              "        const docLinkHtml = 'Like what you see? Visit the ' +\n",
              "          '<a target=\"_blank\" href=https://colab.research.google.com/notebooks/data_table.ipynb>data table notebook</a>'\n",
              "          + ' to learn more about interactive tables.';\n",
              "        element.innerHTML = '';\n",
              "        dataTable['output_type'] = 'display_data';\n",
              "        await google.colab.output.renderOutput(dataTable, element);\n",
              "        const docLink = document.createElement('div');\n",
              "        docLink.innerHTML = docLinkHtml;\n",
              "        element.appendChild(docLink);\n",
              "      }\n",
              "    </script>\n",
              "  </div>\n",
              "\n",
              "\n",
              "<div id=\"df-cdf41d95-1648-4475-be97-c31579be2fdd\">\n",
              "  <button class=\"colab-df-quickchart\" onclick=\"quickchart('df-cdf41d95-1648-4475-be97-c31579be2fdd')\"\n",
              "            title=\"Suggest charts\"\n",
              "            style=\"display:none;\">\n",
              "\n",
              "<svg xmlns=\"http://www.w3.org/2000/svg\" height=\"24px\"viewBox=\"0 0 24 24\"\n",
              "     width=\"24px\">\n",
              "    <g>\n",
              "        <path d=\"M19 3H5c-1.1 0-2 .9-2 2v14c0 1.1.9 2 2 2h14c1.1 0 2-.9 2-2V5c0-1.1-.9-2-2-2zM9 17H7v-7h2v7zm4 0h-2V7h2v10zm4 0h-2v-4h2v4z\"/>\n",
              "    </g>\n",
              "</svg>\n",
              "  </button>\n",
              "\n",
              "<style>\n",
              "  .colab-df-quickchart {\n",
              "      --bg-color: #E8F0FE;\n",
              "      --fill-color: #1967D2;\n",
              "      --hover-bg-color: #E2EBFA;\n",
              "      --hover-fill-color: #174EA6;\n",
              "      --disabled-fill-color: #AAA;\n",
              "      --disabled-bg-color: #DDD;\n",
              "  }\n",
              "\n",
              "  [theme=dark] .colab-df-quickchart {\n",
              "      --bg-color: #3B4455;\n",
              "      --fill-color: #D2E3FC;\n",
              "      --hover-bg-color: #434B5C;\n",
              "      --hover-fill-color: #FFFFFF;\n",
              "      --disabled-bg-color: #3B4455;\n",
              "      --disabled-fill-color: #666;\n",
              "  }\n",
              "\n",
              "  .colab-df-quickchart {\n",
              "    background-color: var(--bg-color);\n",
              "    border: none;\n",
              "    border-radius: 50%;\n",
              "    cursor: pointer;\n",
              "    display: none;\n",
              "    fill: var(--fill-color);\n",
              "    height: 32px;\n",
              "    padding: 0;\n",
              "    width: 32px;\n",
              "  }\n",
              "\n",
              "  .colab-df-quickchart:hover {\n",
              "    background-color: var(--hover-bg-color);\n",
              "    box-shadow: 0 1px 2px rgba(60, 64, 67, 0.3), 0 1px 3px 1px rgba(60, 64, 67, 0.15);\n",
              "    fill: var(--button-hover-fill-color);\n",
              "  }\n",
              "\n",
              "  .colab-df-quickchart-complete:disabled,\n",
              "  .colab-df-quickchart-complete:disabled:hover {\n",
              "    background-color: var(--disabled-bg-color);\n",
              "    fill: var(--disabled-fill-color);\n",
              "    box-shadow: none;\n",
              "  }\n",
              "\n",
              "  .colab-df-spinner {\n",
              "    border: 2px solid var(--fill-color);\n",
              "    border-color: transparent;\n",
              "    border-bottom-color: var(--fill-color);\n",
              "    animation:\n",
              "      spin 1s steps(1) infinite;\n",
              "  }\n",
              "\n",
              "  @keyframes spin {\n",
              "    0% {\n",
              "      border-color: transparent;\n",
              "      border-bottom-color: var(--fill-color);\n",
              "      border-left-color: var(--fill-color);\n",
              "    }\n",
              "    20% {\n",
              "      border-color: transparent;\n",
              "      border-left-color: var(--fill-color);\n",
              "      border-top-color: var(--fill-color);\n",
              "    }\n",
              "    30% {\n",
              "      border-color: transparent;\n",
              "      border-left-color: var(--fill-color);\n",
              "      border-top-color: var(--fill-color);\n",
              "      border-right-color: var(--fill-color);\n",
              "    }\n",
              "    40% {\n",
              "      border-color: transparent;\n",
              "      border-right-color: var(--fill-color);\n",
              "      border-top-color: var(--fill-color);\n",
              "    }\n",
              "    60% {\n",
              "      border-color: transparent;\n",
              "      border-right-color: var(--fill-color);\n",
              "    }\n",
              "    80% {\n",
              "      border-color: transparent;\n",
              "      border-right-color: var(--fill-color);\n",
              "      border-bottom-color: var(--fill-color);\n",
              "    }\n",
              "    90% {\n",
              "      border-color: transparent;\n",
              "      border-bottom-color: var(--fill-color);\n",
              "    }\n",
              "  }\n",
              "</style>\n",
              "\n",
              "  <script>\n",
              "    async function quickchart(key) {\n",
              "      const quickchartButtonEl =\n",
              "        document.querySelector('#' + key + ' button');\n",
              "      quickchartButtonEl.disabled = true;  // To prevent multiple clicks.\n",
              "      quickchartButtonEl.classList.add('colab-df-spinner');\n",
              "      try {\n",
              "        const charts = await google.colab.kernel.invokeFunction(\n",
              "            'suggestCharts', [key], {});\n",
              "      } catch (error) {\n",
              "        console.error('Error during call to suggestCharts:', error);\n",
              "      }\n",
              "      quickchartButtonEl.classList.remove('colab-df-spinner');\n",
              "      quickchartButtonEl.classList.add('colab-df-quickchart-complete');\n",
              "    }\n",
              "    (() => {\n",
              "      let quickchartButtonEl =\n",
              "        document.querySelector('#df-cdf41d95-1648-4475-be97-c31579be2fdd button');\n",
              "      quickchartButtonEl.style.display =\n",
              "        google.colab.kernel.accessAllowed ? 'block' : 'none';\n",
              "    })();\n",
              "  </script>\n",
              "</div>\n",
              "\n",
              "    </div>\n",
              "  </div>\n"
            ],
            "text/plain": [
              "         date  precipitation  temp_max  temp_min  wind  weather\n",
              "0  2012-01-01            0.0      12.8       5.0   4.7  drizzle\n",
              "1  2012-01-02           10.9      10.6       2.8   4.5     rain\n",
              "2  2012-01-03            0.8      11.7       7.2   2.3     rain\n",
              "3  2012-01-04           20.3      12.2       5.6   4.7     rain\n",
              "4  2012-01-05            1.3       8.9       2.8   6.1     rain"
            ]
          },
          "execution_count": 2,
          "metadata": {},
          "output_type": "execute_result"
        }
      ],
      "source": [
        "original = pd.read_csv('seattle-weather.csv')\n",
        "original.head(5)"
      ]
    },
    {
      "cell_type": "markdown",
      "metadata": {
        "id": "fAn8UtwleyG-"
      },
      "source": [
        "### Process Data and One Hot Encoding"
      ]
    },
    {
      "cell_type": "code",
      "execution_count": null,
      "metadata": {
        "colab": {
          "base_uri": "https://localhost:8080/"
        },
        "id": "pMGs0dOPeyR4",
        "outputId": "72a311b1-1e13-47e3-a110-86585ad2e4ec"
      },
      "outputs": [
        {
          "name": "stdout",
          "output_type": "stream",
          "text": [
            "   precipitation  temp_max  temp_min  wind  weather_drizzle  weather_fog  \\\n",
            "0            0.0      12.8       5.0   4.7             True        False   \n",
            "1           10.9      10.6       2.8   4.5            False        False   \n",
            "2            0.8      11.7       7.2   2.3            False        False   \n",
            "3           20.3      12.2       5.6   4.7            False        False   \n",
            "4            1.3       8.9       2.8   6.1            False        False   \n",
            "\n",
            "   weather_rain  weather_snow  weather_sun  \n",
            "0         False         False        False  \n",
            "1          True         False        False  \n",
            "2          True         False        False  \n",
            "3          True         False        False  \n",
            "4          True         False        False  \n"
          ]
        }
      ],
      "source": [
        "original.isna().sum() # Drop rows with missing values\n",
        "data = original.drop('date', axis=1)\n",
        "\n",
        "# One-hot encode the 'weather' column\n",
        "weather_encoded = pd.get_dummies(data['weather'], prefix='weather')\n",
        "data = pd.concat([data, weather_encoded], axis=1)\n",
        "\n",
        "# Drop the original 'weather' column\n",
        "data = data.drop('weather', axis=1)\n",
        "print(data.head(5)) # this is how the dataset currently look like\n",
        "\n",
        "# Scale numerical features to hopefully get better average result\n",
        "scaler = StandardScaler()\n",
        "numerical_features = ['precipitation', 'temp_max', 'temp_min', 'wind']\n",
        "data[numerical_features] = scaler.fit_transform(data[numerical_features])"
      ]
    },
    {
      "cell_type": "markdown",
      "metadata": {
        "id": "s0cYJWdr5IaX"
      },
      "source": [
        "### Split Into Test and Train Dataloaders"
      ]
    },
    {
      "cell_type": "code",
      "execution_count": null,
      "metadata": {
        "id": "5EZAkpHe5Ii7"
      },
      "outputs": [],
      "source": [
        "# Split data\n",
        "X = data.drop(list(weather_encoded.columns), axis=1) #Exclude weather\n",
        "y = data[list(weather_encoded.columns)] #Predict all weather\n",
        "\n",
        "\n",
        "# Create train and test loaders\n",
        "def create_loaders(X_train, y_train, X_test, y_test, batch_size):\n",
        "  X_train, X_test, y_train, y_test = train_test_split(X, y, test_size=0.1, random_state=42)\n",
        "\n",
        "  # Convert to tensors\n",
        "  X_train = torch.tensor(X_train.values, dtype=torch.float32)\n",
        "  y_train = torch.tensor(y_train.values, dtype=torch.float32)\n",
        "  X_test = torch.tensor(X_test.values, dtype=torch.float32)\n",
        "  y_test = torch.tensor(y_test.values, dtype=torch.float32)\n",
        "\n",
        "  train_dataset = TensorDataset(X_train, y_train)\n",
        "  train_loader = DataLoader(train_dataset, batch_size=batch_size, shuffle=True)\n",
        "  test_dataset = TensorDataset(X_test, y_test)\n",
        "  test_loader = DataLoader(test_dataset, batch_size=batch_size, shuffle=False)"
      ]
    },
    {
      "cell_type": "markdown",
      "metadata": {
        "id": "xcjJKIyx5evA"
      },
      "source": []
    },
    {
      "cell_type": "code",
      "execution_count": null,
      "metadata": {
        "id": "x67N4iGs5e5w"
      },
      "outputs": [],
      "source": [
        "class WeatherPredictor(nn.Module):\n",
        "  def __init__(self, input_size, hidden_size, output_size):\n",
        "    super(WeatherPredictor, self).__init__()\n",
        "    self.lstm = nn.LSTM(input_size, hidden_size, batch_first=True)\n",
        "    self.fc = nn.Linear(hidden_size, output_size)\n",
        "\n",
        "  def forward(self, x):\n",
        "    x = x.unsqueeze(1)  # Add batch dimension, previously the shape only had two dimensions (around 1400 data, 4 features)\n",
        "    out, _ = self.lstm(x)\n",
        "    out = self.fc(out[:, -1, :])\n",
        "    return out"
      ]
    },
    {
      "cell_type": "markdown",
      "metadata": {
        "id": "YCYqMPyc53Pc"
      },
      "source": [
        "### Initialize Neural Network Model and Optimizer"
      ]
    },
    {
      "cell_type": "code",
      "execution_count": null,
      "metadata": {
        "id": "LTviB6bD53Xt"
      },
      "outputs": [],
      "source": [
        "def initialization(hidden_size, lr):\n",
        "  input_size = X_train.shape[1]\n",
        "  output_size = 5  # Number of weather categories\n",
        "  model = WeatherPredictor(input_size, hidden_size, output_size)\n",
        "  criterion = nn.BCEWithLogitsLoss()\n",
        "  optimizer = optim.Adam(model.parameters(), lr=lr, weight_decay=0.0001)\n",
        "  # optimizer = optim.LBFGS(model.parameters(), lr=0.001)\n",
        "  return model, criterion, optimizer"
      ]
    },
    {
      "cell_type": "markdown",
      "metadata": {
        "id": "1f31XnLt6aT6"
      },
      "source": [
        "### Training the Neural Network"
      ]
    },
    {
      "cell_type": "code",
      "execution_count": null,
      "metadata": {
        "id": "J7-F9Yc06aha"
      },
      "outputs": [],
      "source": [
        "num_epochs = 80\n",
        "\n",
        "def train_model(model, train_loader, test_loader, criterion, optimizer):\n",
        "  test_accuracy_history = []\n",
        "  train_accuracy_history = []\n",
        "\n",
        "  for epoch in range(num_epochs):\n",
        "      model.train()\n",
        "      correct = 0\n",
        "      total = 0\n",
        "      for i, (inputs, target) in enumerate(train_loader):\n",
        "          optimizer.zero_grad()\n",
        "          output = model(inputs)\n",
        "          loss = criterion(output, target)\n",
        "          loss.backward()\n",
        "          optimizer.step()\n",
        "\n",
        "          # Calculate training accuracy\n",
        "          _, predicted = torch.max(output.data, 1)\n",
        "          total += target.size(0)\n",
        "          correct += (predicted == torch.argmax(target, dim=1)).sum().item()\n",
        "\n",
        "      train_accuracy = 100 * correct / total\n",
        "      train_accuracy_history.append(train_accuracy)\n",
        "\n",
        "      # Evaluate on test set\n",
        "      model.eval()\n",
        "      correct = 0\n",
        "      total = 0\n",
        "      with torch.no_grad():\n",
        "          for inputs, target in test_loader:\n",
        "              output = model(inputs)\n",
        "              _, predicted = torch.max(output.data, 1)\n",
        "              total += target.size(0)\n",
        "              correct += (predicted == torch.argmax(target, dim=1)).sum().item()\n",
        "\n",
        "      test_accuracy = 100 * correct / total\n",
        "      test_accuracy_history.append(test_accuracy)\n",
        "\n",
        "      # print(f'Epoch {epoch+1}/{num_epochs}, Train Accuracy: {train_accuracy:.2f}%, Test Accuracy: {test_accuracy:.2f}%')\n",
        "  return sum(test_accuracy_history[-10:])/10\n",
        "\n",
        "  print(\"Finished Training\")"
      ]
    },
    {
      "cell_type": "markdown",
      "metadata": {
        "id": "gd9N8ZfuaM_7"
      },
      "source": [
        "### Parameters Tunning"
      ]
    },
    {
      "cell_type": "code",
      "execution_count": null,
      "metadata": {
        "colab": {
          "background_save": true,
          "base_uri": "https://localhost:8080/"
        },
        "id": "z9p_zwxbaMMM",
        "outputId": "be38d40f-8387-4535-ace9-3eb021c7b2e1"
      },
      "outputs": [
        {
          "name": "stdout",
          "output_type": "stream",
          "text": [
            "Batch Size: 10, Hidden Size: 10, Learning Rate: 0.1, Test Accuracy: 82.04081632653062\n",
            "Batch Size: 10, Hidden Size: 10, Learning Rate: 0.01, Test Accuracy: 82.44897959183673\n",
            "Batch Size: 10, Hidden Size: 10, Learning Rate: 0.001, Test Accuracy: 80.81632653061224\n",
            "Batch Size: 10, Hidden Size: 15, Learning Rate: 0.1, Test Accuracy: 82.17687074829931\n",
            "Batch Size: 10, Hidden Size: 15, Learning Rate: 0.01, Test Accuracy: 82.72108843537414\n",
            "Batch Size: 10, Hidden Size: 15, Learning Rate: 0.001, Test Accuracy: 81.42857142857142\n",
            "Batch Size: 10, Hidden Size: 20, Learning Rate: 0.1, Test Accuracy: 81.76870748299321\n",
            "Batch Size: 10, Hidden Size: 20, Learning Rate: 0.01, Test Accuracy: 82.58503401360545\n",
            "Batch Size: 10, Hidden Size: 20, Learning Rate: 0.001, Test Accuracy: 81.70068027210883\n",
            "Batch Size: 10, Hidden Size: 25, Learning Rate: 0.1, Test Accuracy: 81.63265306122449\n",
            "Batch Size: 10, Hidden Size: 25, Learning Rate: 0.01, Test Accuracy: 81.70068027210884\n",
            "Batch Size: 10, Hidden Size: 25, Learning Rate: 0.001, Test Accuracy: 81.83673469387755\n",
            "Batch Size: 10, Hidden Size: 30, Learning Rate: 0.1, Test Accuracy: 81.49659863945578\n",
            "Batch Size: 10, Hidden Size: 30, Learning Rate: 0.01, Test Accuracy: 82.5170068027211\n",
            "Batch Size: 10, Hidden Size: 30, Learning Rate: 0.001, Test Accuracy: 81.97278911564626\n",
            "Batch Size: 20, Hidden Size: 10, Learning Rate: 0.1, Test Accuracy: 82.17687074829931\n",
            "Batch Size: 20, Hidden Size: 10, Learning Rate: 0.01, Test Accuracy: 82.10884353741497\n",
            "Batch Size: 20, Hidden Size: 10, Learning Rate: 0.001, Test Accuracy: 78.50340136054423\n",
            "Batch Size: 20, Hidden Size: 15, Learning Rate: 0.1, Test Accuracy: 81.9047619047619\n",
            "Batch Size: 20, Hidden Size: 15, Learning Rate: 0.01, Test Accuracy: 82.85714285714286\n",
            "Batch Size: 20, Hidden Size: 15, Learning Rate: 0.001, Test Accuracy: 78.91156462585035\n",
            "Batch Size: 20, Hidden Size: 20, Learning Rate: 0.1, Test Accuracy: 82.31292517006803\n",
            "Batch Size: 20, Hidden Size: 20, Learning Rate: 0.01, Test Accuracy: 81.9047619047619\n",
            "Batch Size: 20, Hidden Size: 20, Learning Rate: 0.001, Test Accuracy: 79.65986394557822\n",
            "Batch Size: 20, Hidden Size: 25, Learning Rate: 0.1, Test Accuracy: 82.38095238095238\n",
            "Batch Size: 20, Hidden Size: 25, Learning Rate: 0.01, Test Accuracy: 82.04081632653063\n",
            "Batch Size: 20, Hidden Size: 25, Learning Rate: 0.001, Test Accuracy: 79.65986394557822\n",
            "Batch Size: 20, Hidden Size: 30, Learning Rate: 0.1, Test Accuracy: 82.6530612244898\n",
            "Batch Size: 20, Hidden Size: 30, Learning Rate: 0.01, Test Accuracy: 82.78911564625851\n",
            "Batch Size: 20, Hidden Size: 30, Learning Rate: 0.001, Test Accuracy: 80.20408163265306\n",
            "Batch Size: 30, Hidden Size: 10, Learning Rate: 0.1, Test Accuracy: 82.72108843537416\n",
            "Batch Size: 30, Hidden Size: 10, Learning Rate: 0.01, Test Accuracy: 82.10884353741497\n",
            "Batch Size: 30, Hidden Size: 10, Learning Rate: 0.001, Test Accuracy: 78.91156462585035\n",
            "Batch Size: 30, Hidden Size: 15, Learning Rate: 0.1, Test Accuracy: 82.10884353741497\n",
            "Batch Size: 30, Hidden Size: 15, Learning Rate: 0.01, Test Accuracy: 82.51700680272108\n",
            "Batch Size: 30, Hidden Size: 15, Learning Rate: 0.001, Test Accuracy: 78.23129251700679\n",
            "Batch Size: 30, Hidden Size: 20, Learning Rate: 0.1, Test Accuracy: 82.72108843537416\n",
            "Batch Size: 30, Hidden Size: 20, Learning Rate: 0.01, Test Accuracy: 82.85714285714286\n",
            "Batch Size: 30, Hidden Size: 20, Learning Rate: 0.001, Test Accuracy: 78.50340136054423\n",
            "Batch Size: 30, Hidden Size: 25, Learning Rate: 0.1, Test Accuracy: 82.17687074829931\n",
            "Batch Size: 30, Hidden Size: 25, Learning Rate: 0.01, Test Accuracy: 82.5170068027211\n",
            "Batch Size: 30, Hidden Size: 25, Learning Rate: 0.001, Test Accuracy: 78.77551020408166\n",
            "Batch Size: 30, Hidden Size: 30, Learning Rate: 0.1, Test Accuracy: 82.58503401360545\n",
            "Batch Size: 30, Hidden Size: 30, Learning Rate: 0.01, Test Accuracy: 82.51700680272108\n",
            "Batch Size: 30, Hidden Size: 30, Learning Rate: 0.001, Test Accuracy: 78.843537414966\n",
            "Batch Size: 40, Hidden Size: 10, Learning Rate: 0.1, Test Accuracy: 82.6530612244898\n",
            "Batch Size: 40, Hidden Size: 10, Learning Rate: 0.01, Test Accuracy: 82.72108843537416\n",
            "Batch Size: 40, Hidden Size: 10, Learning Rate: 0.001, Test Accuracy: 78.77551020408164\n",
            "Batch Size: 40, Hidden Size: 15, Learning Rate: 0.1, Test Accuracy: 82.31292517006803\n",
            "Batch Size: 40, Hidden Size: 15, Learning Rate: 0.01, Test Accuracy: 82.65306122448979\n",
            "Batch Size: 40, Hidden Size: 15, Learning Rate: 0.001, Test Accuracy: 78.70748299319727\n",
            "Batch Size: 40, Hidden Size: 20, Learning Rate: 0.1, Test Accuracy: 82.58503401360545\n",
            "Batch Size: 40, Hidden Size: 20, Learning Rate: 0.01, Test Accuracy: 82.58503401360545\n",
            "Batch Size: 40, Hidden Size: 20, Learning Rate: 0.001, Test Accuracy: 78.23129251700679\n",
            "Batch Size: 40, Hidden Size: 25, Learning Rate: 0.1, Test Accuracy: 82.85714285714286\n",
            "Batch Size: 40, Hidden Size: 25, Learning Rate: 0.01, Test Accuracy: 82.6530612244898\n",
            "Batch Size: 40, Hidden Size: 25, Learning Rate: 0.001, Test Accuracy: 78.29931972789116\n",
            "Batch Size: 40, Hidden Size: 30, Learning Rate: 0.1, Test Accuracy: 82.38095238095238\n",
            "Batch Size: 40, Hidden Size: 30, Learning Rate: 0.01, Test Accuracy: 82.38095238095238\n",
            "Batch Size: 40, Hidden Size: 30, Learning Rate: 0.001, Test Accuracy: 78.70748299319727\n",
            "Batch Size: 50, Hidden Size: 10, Learning Rate: 0.1, Test Accuracy: 82.24489795918366\n",
            "Batch Size: 50, Hidden Size: 10, Learning Rate: 0.01, Test Accuracy: 82.6530612244898\n",
            "Batch Size: 50, Hidden Size: 10, Learning Rate: 0.001, Test Accuracy: 76.87074829931973\n",
            "Batch Size: 50, Hidden Size: 15, Learning Rate: 0.1, Test Accuracy: 82.7891156462585\n",
            "Batch Size: 50, Hidden Size: 15, Learning Rate: 0.01, Test Accuracy: 82.38095238095238\n",
            "Batch Size: 50, Hidden Size: 15, Learning Rate: 0.001, Test Accuracy: 78.50340136054422\n",
            "Batch Size: 50, Hidden Size: 20, Learning Rate: 0.1, Test Accuracy: 82.44897959183672\n",
            "Batch Size: 50, Hidden Size: 20, Learning Rate: 0.01, Test Accuracy: 82.6530612244898\n",
            "Batch Size: 50, Hidden Size: 20, Learning Rate: 0.001, Test Accuracy: 78.77551020408164\n",
            "Batch Size: 50, Hidden Size: 25, Learning Rate: 0.1, Test Accuracy: 82.5170068027211\n",
            "Batch Size: 50, Hidden Size: 25, Learning Rate: 0.01, Test Accuracy: 82.44897959183673\n",
            "Batch Size: 50, Hidden Size: 25, Learning Rate: 0.001, Test Accuracy: 78.843537414966\n",
            "Batch Size: 50, Hidden Size: 30, Learning Rate: 0.1, Test Accuracy: 82.04081632653062\n",
            "Batch Size: 50, Hidden Size: 30, Learning Rate: 0.01, Test Accuracy: 82.72108843537414\n",
            "Batch Size: 50, Hidden Size: 30, Learning Rate: 0.001, Test Accuracy: 78.63945578231294\n",
            "[82.04081632653062, 82.44897959183673, 80.81632653061224, 82.17687074829931, 82.72108843537414, 81.42857142857142, 81.76870748299321, 82.58503401360545, 81.70068027210883, 81.63265306122449, 81.70068027210884, 81.83673469387755, 81.49659863945578, 82.5170068027211, 81.97278911564626, 82.17687074829931, 82.10884353741497, 78.50340136054423, 81.9047619047619, 82.85714285714286, 78.91156462585035, 82.31292517006803, 81.9047619047619, 79.65986394557822, 82.38095238095238, 82.04081632653063, 79.65986394557822, 82.6530612244898, 82.78911564625851, 80.20408163265306, 82.72108843537416, 82.10884353741497, 78.91156462585035, 82.10884353741497, 82.51700680272108, 78.23129251700679, 82.72108843537416, 82.85714285714286, 78.50340136054423, 82.17687074829931, 82.5170068027211, 78.77551020408166, 82.58503401360545, 82.51700680272108, 78.843537414966, 82.6530612244898, 82.72108843537416, 78.77551020408164, 82.31292517006803, 82.65306122448979, 78.70748299319727, 82.58503401360545, 82.58503401360545, 78.23129251700679, 82.85714285714286, 82.6530612244898, 78.29931972789116, 82.38095238095238, 82.38095238095238, 78.70748299319727, 82.24489795918366, 82.6530612244898, 76.87074829931973, 82.7891156462585, 82.38095238095238, 78.50340136054422, 82.44897959183672, 82.6530612244898, 78.77551020408164, 82.5170068027211, 82.44897959183673, 78.843537414966, 82.04081632653062, 82.72108843537414, 78.63945578231294]\n"
          ]
        }
      ],
      "source": [
        "batch_size = 10\n",
        "hidden_size = 10  # arbitrary, but 25 worked well than most, so the loop will try up until 30\n",
        "learning_rate = 0.1\n",
        "test_result = []\n",
        "\n",
        "for b in range(5):\n",
        "  hidden_size = 10\n",
        "  for h in range(5):\n",
        "    learning_rate = 0.1\n",
        "    for l in range(3):\n",
        "      train_loader = DataLoader(TensorDataset(X_train, y_train), batch_size=batch_size, shuffle=True)\n",
        "      test_loader = DataLoader(TensorDataset(X_test, y_test), batch_size=batch_size, shuffle=False)\n",
        "      model, criterion, optimizer = initialization(hidden_size, learning_rate)\n",
        "      test_result.append(train_model(model, train_loader, test_loader, criterion, optimizer))\n",
        "      print(f'Batch Size: {batch_size}, Hidden Size: {hidden_size}, Learning Rate: {learning_rate}, Test Accuracy: {test_result[-1]}')\n",
        "      learning_rate /= 10\n",
        "    hidden_size += 5\n",
        "  batch_size += 10\n",
        "print(test_result)"
      ]
    },
    {
      "cell_type": "code",
      "execution_count": 58,
      "metadata": {
        "id": "9ESGmgiIsBlS"
      },
      "outputs": [],
      "source": [
        "# Define the parameter values\n",
        "batch_sizes = [10] * 15 + [20] * 15 + [30] * 15 + [40] * 15 + [50] * 15  # Repeat each batch size 15 times\n",
        "hidden_sizes = [10, 10, 10, 15, 15, 15, 20, 20, 20, 25, 25, 25, 30, 30, 30] * 5\n",
        "learning_rates = [0.1, 0.01, 0.001] * 25\n",
        "\n",
        "# Create a dictionary to store the data\n",
        "data = {\n",
        "    'batch_size': batch_sizes,\n",
        "    'hidden_size': hidden_sizes,\n",
        "    'learning_rate': learning_rates,\n",
        "    'test_accuracy': test_result\n",
        "}\n",
        "\n",
        "# Create a Pandas DataFrame\n",
        "df = pd.DataFrame(data)\n",
        "\n",
        "# Save the DataFrame to a CSV file\n",
        "df.to_csv('test_result.csv', index=False)"
      ]
    },
    {
      "cell_type": "markdown",
      "metadata": {
        "id": "_RIeyinh6bhr"
      },
      "source": [
        "### Save the Model"
      ]
    },
    {
      "cell_type": "code",
      "execution_count": null,
      "metadata": {
        "id": "AB72wRsx6buN"
      },
      "outputs": [],
      "source": [
        "torch.save(model.state_dict(), 'weather_predictor.pth')\n",
        "# may use for weather prediction"
      ]
    },
    {
      "cell_type": "markdown",
      "metadata": {
        "id": "aC4V94XS6b8e"
      },
      "source": [
        "### Graph the Result"
      ]
    },
    {
      "cell_type": "code",
      "execution_count": 59,
      "metadata": {
        "colab": {
          "base_uri": "https://localhost:8080/",
          "height": 449
        },
        "id": "MGsQqxu0kjV0",
        "outputId": "9bece407-672a-4c3d-eadb-c5469a3a7f62"
      },
      "outputs": [
        {
          "output_type": "display_data",
          "data": {
            "text/plain": [
              "<Figure size 640x480 with 1 Axes>"
            ],
            "image/png": "[encoded data removed]"
          },
          "metadata": {}
        }
      ],
      "source": [
        "# note that here the graph only reflects the last iteration\n",
        "plt.plot(train_accuracy_history, label='Training Accuracy')\n",
        "plt.plot(test_accuracy_history, label = 'Test Accuracy')\n",
        "plt.xlabel('Epoch')\n",
        "plt.ylabel('Accuracy (%)')\n",
        "plt.legend()\n",
        "plt.show()"
      ]
    },
    {
      "cell_type": "markdown",
      "metadata": {
        "id": "kQIu1BvPVd6u"
      },
      "source": [
        "### Predict Weather on One Day"
      ]
    },
    {
      "cell_type": "code",
      "execution_count": null,
      "metadata": {
        "colab": {
          "base_uri": "https://localhost:8080/"
        },
        "id": "1VC7ePzcVdZb",
        "outputId": "b08f538a-b059-4671-8022-cf90c24bba83"
      },
      "outputs": [
        {
          "name": "stdout",
          "output_type": "stream",
          "text": [
            "Predicted Weather: rain\n"
          ]
        }
      ],
      "source": [
        "new_data = pd.DataFrame({\n",
        "  'precipitation': [0.5],  # Example value\n",
        "  'temp_max': [5],      # Example value\n",
        "  'temp_min': [0],       # Example value\n",
        "  'wind': [0]            # Example value\n",
        "})\n",
        "\n",
        "new_data[['precipitation', 'temp_max', 'temp_min', 'wind']] = scaler.transform(new_data[['precipitation', 'temp_max', 'temp_min', 'wind']])\n",
        "\n",
        "prediction_data = torch.tensor(new_data.values, dtype=torch.float32)\n",
        "\n",
        "output = model(prediction_data)\n",
        "_, predicted = torch.max(output.data, 1)\n",
        "\n",
        "weather_categories = list(weather_encoded.columns)\n",
        "print(f'Predicted Weather: {weather_categories[predicted.item()][8:]}')\n",
        "\n",
        "### if we found a suitable dataset that includes more recent weather, we might update result here"
      ]
    }
  ],
  "metadata": {
    "colab": {
      "provenance": []
    },
    "kernelspec": {
      "display_name": "Python 3",
      "name": "python3"
    },
    "language_info": {
      "name": "python"
    }
  },
  "nbformat": 4,
  "nbformat_minor": 0
}